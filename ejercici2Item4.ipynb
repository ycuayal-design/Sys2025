{
  "nbformat": 4,
  "nbformat_minor": 0,
  "metadata": {
    "colab": {
      "provenance": [],
      "authorship_tag": "ABX9TyPxaWGJZQax25ZlEEtSSrF6",
      "include_colab_link": true
    },
    "kernelspec": {
      "name": "python3",
      "display_name": "Python 3"
    },
    "language_info": {
      "name": "python"
    }
  },
  "cells": [
    {
      "cell_type": "markdown",
      "metadata": {
        "id": "view-in-github",
        "colab_type": "text"
      },
      "source": [
        "<a href=\"https://colab.research.google.com/github/ycuayal-design/Sys2025/blob/main/ejercici2Item4.ipynb\" target=\"_parent\"><img src=\"https://colab.research.google.com/assets/colab-badge.svg\" alt=\"Open In Colab\"/></a>"
      ]
    },
    {
      "cell_type": "code",
      "execution_count": null,
      "metadata": {
        "id": "-DYi-2MiDmgU"
      },
      "outputs": [],
      "source": [
        "import numpy as np # importar libreria numpy\n",
        "import sympy as sj # importar libreria sympy\n",
        "from scipy.spatial.distance import cdist\n",
        "#señal original\n",
        "Fo = 50\n",
        "To = 1/100\n",
        "A = 120\n",
        "Fs = 2*Fo #asegurar nyquist\n",
        "Ts = 1/Fs\n",
        "tv = np.arange(0,2*To,Ts)#procesar dos periodos discretizados\n",
        "y = A*np.sin(2*np.pi*Fo*tv)\n",
        "\n",
        "#cero y pendiente\n",
        "ycs = my_ceropen(y, ymin=-3.3,ymax=3.3)\n",
        "\n",
        "#número de bits y vector de cuantización\n",
        "nbits = 4\n",
        "rmin = -3.3\n",
        "rmax = 3.3\n",
        "ve = np.linspace(rmin,rmax,2**nbits) # (rmax-rmin)/(2^#bits - 1) -> si se quiere incluir rmin y rmax\n",
        "\n",
        "#distancias y cero pendiente a vector cuantizacion\n",
        "d = cdist(ycs.reshape(-1,1),ve.reshape(-1,1)) #se utiliza reshape(-1,1) para generar vectores columna como lo pide cdist\n",
        "d.shape # d es una matriz de 500 x 8, ej: la fila 1 incluye la distancia euclidea entre y[0] y los 8 elementos en ve"
      ]
    }
  ]
}